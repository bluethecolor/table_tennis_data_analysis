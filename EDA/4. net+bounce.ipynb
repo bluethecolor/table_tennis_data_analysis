{
 "cells": [
  {
   "cell_type": "code",
   "execution_count": 1,
   "metadata": {},
   "outputs": [],
   "source": [
    "import warnings\n",
    "warnings.filterwarnings('ignore')"
   ]
  },
  {
   "cell_type": "code",
   "execution_count": 2,
   "metadata": {},
   "outputs": [],
   "source": [
    "import mysql.connector\n",
    "import pandas as pd\n",
    "import numpy as np\n",
    "\n",
    "import mysql.connector\n",
    "import pandas as pd\n",
    "\n",
    "# MySQL 연결 설정\n",
    "cnx = mysql.connector.connect(\n",
    "    host='',\n",
    "    user='',\n",
    "    password='',\n",
    "    database='ball_movement'\n",
    ")\n",
    "\n",
    "# 쿼리 생성\n",
    "query_events_df = \"SELECT * FROM events_df\"\n",
    "query_events_df_bounce = \"SELECT * FROM events_df_bounce\"\n",
    "query_events_df_net = \"SELECT * FROM events_df_net\"\n",
    "\n",
    "# DataFrame으로 읽기\n",
    "events_df = pd.read_sql(query_events_df, con=cnx)\n",
    "events_df_bounce = pd.read_sql(query_events_df_bounce, con=cnx)\n",
    "events_df_net = pd.read_sql(query_events_df_net, con=cnx)\n",
    "\n",
    "# 연결 종료 (선택적)\n",
    "cnx.close()"
   ]
  },
  {
   "cell_type": "markdown",
   "metadata": {},
   "source": [
    "events_df에 앞서서 얻은 net와 bounce 관련 데이터들을 통합합니다."
   ]
  },
  {
   "cell_type": "code",
   "execution_count": 3,
   "metadata": {},
   "outputs": [
    {
     "data": {
      "text/html": [
       "<div>\n",
       "<style scoped>\n",
       "    .dataframe tbody tr th:only-of-type {\n",
       "        vertical-align: middle;\n",
       "    }\n",
       "\n",
       "    .dataframe tbody tr th {\n",
       "        vertical-align: top;\n",
       "    }\n",
       "\n",
       "    .dataframe thead th {\n",
       "        text-align: right;\n",
       "    }\n",
       "</style>\n",
       "<table border=\"1\" class=\"dataframe\">\n",
       "  <thead>\n",
       "    <tr style=\"text-align: right;\">\n",
       "      <th></th>\n",
       "      <th>index</th>\n",
       "      <th>frame</th>\n",
       "      <th>x</th>\n",
       "      <th>y</th>\n",
       "      <th>event</th>\n",
       "      <th>player</th>\n",
       "      <th>height</th>\n",
       "      <th>bounce</th>\n",
       "    </tr>\n",
       "  </thead>\n",
       "  <tbody>\n",
       "    <tr>\n",
       "      <th>0</th>\n",
       "      <td>0</td>\n",
       "      <td>18</td>\n",
       "      <td>566</td>\n",
       "      <td>200</td>\n",
       "      <td>bounce</td>\n",
       "      <td>player_A</td>\n",
       "      <td>NaN</td>\n",
       "      <td>left</td>\n",
       "    </tr>\n",
       "    <tr>\n",
       "      <th>1</th>\n",
       "      <td>1</td>\n",
       "      <td>33</td>\n",
       "      <td>897</td>\n",
       "      <td>228</td>\n",
       "      <td>net</td>\n",
       "      <td>player_A</td>\n",
       "      <td>0.66</td>\n",
       "      <td>NaN</td>\n",
       "    </tr>\n",
       "    <tr>\n",
       "      <th>2</th>\n",
       "      <td>2</td>\n",
       "      <td>44</td>\n",
       "      <td>500</td>\n",
       "      <td>138</td>\n",
       "      <td>bounce</td>\n",
       "      <td>player_A</td>\n",
       "      <td>NaN</td>\n",
       "      <td>right</td>\n",
       "    </tr>\n",
       "    <tr>\n",
       "      <th>3</th>\n",
       "      <td>3</td>\n",
       "      <td>2192</td>\n",
       "      <td>1305</td>\n",
       "      <td>110</td>\n",
       "      <td>bounce</td>\n",
       "      <td>player_B</td>\n",
       "      <td>NaN</td>\n",
       "      <td>left</td>\n",
       "    </tr>\n",
       "    <tr>\n",
       "      <th>4</th>\n",
       "      <td>4</td>\n",
       "      <td>2211</td>\n",
       "      <td>889</td>\n",
       "      <td>240</td>\n",
       "      <td>net</td>\n",
       "      <td>player_B</td>\n",
       "      <td>0.69</td>\n",
       "      <td>NaN</td>\n",
       "    </tr>\n",
       "  </tbody>\n",
       "</table>\n",
       "</div>"
      ],
      "text/plain": [
       "   index  frame     x    y   event    player  height bounce\n",
       "0      0     18   566  200  bounce  player_A     NaN   left\n",
       "1      1     33   897  228     net  player_A    0.66    NaN\n",
       "2      2     44   500  138  bounce  player_A     NaN  right\n",
       "3      3   2192  1305  110  bounce  player_B     NaN   left\n",
       "4      4   2211   889  240     net  player_B    0.69    NaN"
      ]
     },
     "execution_count": 3,
     "metadata": {},
     "output_type": "execute_result"
    }
   ],
   "source": [
    "import pandas as pd\n",
    " \n",
    "events_df = events_df.merge(events_df_net[['frame', 'height']], on='frame', how='left')\n",
    "events_df = events_df.merge(events_df_bounce[['frame', 'bounce']], on='frame', how='left')\n",
    "\n",
    "events_df.head()"
   ]
  },
  {
   "cell_type": "code",
   "execution_count": 4,
   "metadata": {},
   "outputs": [
    {
     "data": {
      "text/plain": [
       "335"
      ]
     },
     "execution_count": 4,
     "metadata": {},
     "output_type": "execute_result"
    }
   ],
   "source": [
    " # mysql로 보내기\n",
    "\n",
    "from sqlalchemy import create_engine\n",
    " \n",
    "db_connection_path = ''\n",
    "db_connection = create_engine(db_connection_path)\n",
    "\n",
    "conn = db_connection.connect()\n",
    "\n",
    "events_df.to_sql('events_df', con = db_connection, if_exists= 'replace')"
   ]
  },
  {
   "cell_type": "code",
   "execution_count": null,
   "metadata": {},
   "outputs": [],
   "source": []
  }
 ],
 "metadata": {
  "kernelspec": {
   "display_name": "Python 3",
   "language": "python",
   "name": "python3"
  },
  "language_info": {
   "codemirror_mode": {
    "name": "ipython",
    "version": 3
   },
   "file_extension": ".py",
   "mimetype": "text/x-python",
   "name": "python",
   "nbconvert_exporter": "python",
   "pygments_lexer": "ipython3",
   "version": "3.9.16"
  },
  "orig_nbformat": 4
 },
 "nbformat": 4,
 "nbformat_minor": 2
}
