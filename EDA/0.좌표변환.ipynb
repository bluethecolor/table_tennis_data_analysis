{
 "cells": [
  {
   "cell_type": "code",
   "execution_count": 9,
   "metadata": {},
   "outputs": [],
   "source": [
    "import warnings\n",
    "warnings.filterwarnings('ignore')"
   ]
  },
  {
   "cell_type": "code",
   "execution_count": 10,
   "metadata": {},
   "outputs": [],
   "source": [
    "# mysql에 저장한 데이터를 불러오기\n",
    "\n",
    "import mysql.connector\n",
    "import pandas as pd\n",
    "import numpy as np\n",
    "\n",
    "import mysql.connector\n",
    "import pandas as pd\n",
    "\n",
    "# MySQL 연결 설정\n",
    "cnx = mysql.connector.connect(\n",
    "    host='',\n",
    "    user='',\n",
    "    password='',\n",
    "    database='trainDB'\n",
    ")\n",
    "\n",
    "# 쿼리 생성\n",
    "query_ball = \"SELECT * FROM ball_markup_1\"\n",
    "query_event = \"SELECT * FROM events_markup_1\"\n",
    "\n",
    "# DataFrame으로 읽기\n",
    "ball_df = pd.read_sql(query_ball, con=cnx)\n",
    "events_df = pd.read_sql(query_event, con=cnx)\n",
    "\n",
    "# 연결 종료 (선택적)\n",
    "cnx.close()"
   ]
  },
  {
   "cell_type": "code",
   "execution_count": 13,
   "metadata": {},
   "outputs": [
    {
     "data": {
      "text/html": [
       "<div>\n",
       "<style scoped>\n",
       "    .dataframe tbody tr th:only-of-type {\n",
       "        vertical-align: middle;\n",
       "    }\n",
       "\n",
       "    .dataframe tbody tr th {\n",
       "        vertical-align: top;\n",
       "    }\n",
       "\n",
       "    .dataframe thead th {\n",
       "        text-align: right;\n",
       "    }\n",
       "</style>\n",
       "<table border=\"1\" class=\"dataframe\">\n",
       "  <thead>\n",
       "    <tr style=\"text-align: right;\">\n",
       "      <th></th>\n",
       "      <th>frame</th>\n",
       "      <th>event</th>\n",
       "    </tr>\n",
       "  </thead>\n",
       "  <tbody>\n",
       "    <tr>\n",
       "      <th>0</th>\n",
       "      <td>18</td>\n",
       "      <td>bounce</td>\n",
       "    </tr>\n",
       "    <tr>\n",
       "      <th>1</th>\n",
       "      <td>33</td>\n",
       "      <td>net</td>\n",
       "    </tr>\n",
       "    <tr>\n",
       "      <th>2</th>\n",
       "      <td>44</td>\n",
       "      <td>bounce</td>\n",
       "    </tr>\n",
       "    <tr>\n",
       "      <th>3</th>\n",
       "      <td>58</td>\n",
       "      <td>empty_event</td>\n",
       "    </tr>\n",
       "    <tr>\n",
       "      <th>4</th>\n",
       "      <td>98</td>\n",
       "      <td>net</td>\n",
       "    </tr>\n",
       "    <tr>\n",
       "      <th>...</th>\n",
       "      <td>...</td>\n",
       "      <td>...</td>\n",
       "    </tr>\n",
       "    <tr>\n",
       "      <th>599</th>\n",
       "      <td>79276</td>\n",
       "      <td>net</td>\n",
       "    </tr>\n",
       "    <tr>\n",
       "      <th>600</th>\n",
       "      <td>79291</td>\n",
       "      <td>bounce</td>\n",
       "    </tr>\n",
       "    <tr>\n",
       "      <th>601</th>\n",
       "      <td>79323</td>\n",
       "      <td>empty_event</td>\n",
       "    </tr>\n",
       "    <tr>\n",
       "      <th>602</th>\n",
       "      <td>79361</td>\n",
       "      <td>empty_event</td>\n",
       "    </tr>\n",
       "    <tr>\n",
       "      <th>603</th>\n",
       "      <td>79404</td>\n",
       "      <td>bounce</td>\n",
       "    </tr>\n",
       "  </tbody>\n",
       "</table>\n",
       "<p>604 rows × 2 columns</p>\n",
       "</div>"
      ],
      "text/plain": [
       "     frame        event\n",
       "0       18       bounce\n",
       "1       33          net\n",
       "2       44       bounce\n",
       "3       58  empty_event\n",
       "4       98          net\n",
       "..     ...          ...\n",
       "599  79276          net\n",
       "600  79291       bounce\n",
       "601  79323  empty_event\n",
       "602  79361  empty_event\n",
       "603  79404       bounce\n",
       "\n",
       "[604 rows x 2 columns]"
      ]
     },
     "execution_count": 13,
     "metadata": {},
     "output_type": "execute_result"
    }
   ],
   "source": [
    "events_df = events_df.drop(columns='level_0')\n",
    "events_df"
   ]
  },
  {
   "cell_type": "code",
   "execution_count": 11,
   "metadata": {},
   "outputs": [
    {
     "data": {
      "text/html": [
       "<div>\n",
       "<style scoped>\n",
       "    .dataframe tbody tr th:only-of-type {\n",
       "        vertical-align: middle;\n",
       "    }\n",
       "\n",
       "    .dataframe tbody tr th {\n",
       "        vertical-align: top;\n",
       "    }\n",
       "\n",
       "    .dataframe thead th {\n",
       "        text-align: right;\n",
       "    }\n",
       "</style>\n",
       "<table border=\"1\" class=\"dataframe\">\n",
       "  <thead>\n",
       "    <tr style=\"text-align: right;\">\n",
       "      <th></th>\n",
       "      <th>frame</th>\n",
       "      <th>x</th>\n",
       "      <th>y</th>\n",
       "    </tr>\n",
       "  </thead>\n",
       "  <tbody>\n",
       "    <tr>\n",
       "      <th>0</th>\n",
       "      <td>14</td>\n",
       "      <td>506</td>\n",
       "      <td>523</td>\n",
       "    </tr>\n",
       "    <tr>\n",
       "      <th>1</th>\n",
       "      <td>15</td>\n",
       "      <td>523</td>\n",
       "      <td>529</td>\n",
       "    </tr>\n",
       "    <tr>\n",
       "      <th>2</th>\n",
       "      <td>16</td>\n",
       "      <td>537</td>\n",
       "      <td>534</td>\n",
       "    </tr>\n",
       "    <tr>\n",
       "      <th>3</th>\n",
       "      <td>17</td>\n",
       "      <td>552</td>\n",
       "      <td>541</td>\n",
       "    </tr>\n",
       "    <tr>\n",
       "      <th>4</th>\n",
       "      <td>18</td>\n",
       "      <td>566</td>\n",
       "      <td>544</td>\n",
       "    </tr>\n",
       "    <tr>\n",
       "      <th>...</th>\n",
       "      <td>...</td>\n",
       "      <td>...</td>\n",
       "      <td>...</td>\n",
       "    </tr>\n",
       "    <tr>\n",
       "      <th>6794</th>\n",
       "      <td>79412</td>\n",
       "      <td>852</td>\n",
       "      <td>617</td>\n",
       "    </tr>\n",
       "    <tr>\n",
       "      <th>6795</th>\n",
       "      <td>79413</td>\n",
       "      <td>-1</td>\n",
       "      <td>-1</td>\n",
       "    </tr>\n",
       "    <tr>\n",
       "      <th>6796</th>\n",
       "      <td>79414</td>\n",
       "      <td>-1</td>\n",
       "      <td>-1</td>\n",
       "    </tr>\n",
       "    <tr>\n",
       "      <th>6797</th>\n",
       "      <td>79415</td>\n",
       "      <td>853</td>\n",
       "      <td>616</td>\n",
       "    </tr>\n",
       "    <tr>\n",
       "      <th>6798</th>\n",
       "      <td>79416</td>\n",
       "      <td>851</td>\n",
       "      <td>615</td>\n",
       "    </tr>\n",
       "  </tbody>\n",
       "</table>\n",
       "<p>6799 rows × 3 columns</p>\n",
       "</div>"
      ],
      "text/plain": [
       "      frame    x    y\n",
       "0        14  506  523\n",
       "1        15  523  529\n",
       "2        16  537  534\n",
       "3        17  552  541\n",
       "4        18  566  544\n",
       "...     ...  ...  ...\n",
       "6794  79412  852  617\n",
       "6795  79413   -1   -1\n",
       "6796  79414   -1   -1\n",
       "6797  79415  853  616\n",
       "6798  79416  851  615\n",
       "\n",
       "[6799 rows x 3 columns]"
      ]
     },
     "execution_count": 11,
     "metadata": {},
     "output_type": "execute_result"
    }
   ],
   "source": [
    "# ball_df = ball_df.drop(columns='level_0')\n",
    "# ball_df"
   ]
  },
  {
   "cell_type": "markdown",
   "metadata": {},
   "source": [
    "[탁구 데이터세트](https://lab.osai.ai/)에서 불러온 데이터 세트는 y축이 반전되있다는 문제가 있습니다. 따라서 y축을 재반전 시키고 이를 **ball_df** 데이터세트에 적용합니다."
   ]
  },
  {
   "cell_type": "code",
   "execution_count": 5,
   "metadata": {},
   "outputs": [
    {
     "data": {
      "text/html": [
       "<div>\n",
       "<style scoped>\n",
       "    .dataframe tbody tr th:only-of-type {\n",
       "        vertical-align: middle;\n",
       "    }\n",
       "\n",
       "    .dataframe tbody tr th {\n",
       "        vertical-align: top;\n",
       "    }\n",
       "\n",
       "    .dataframe thead th {\n",
       "        text-align: right;\n",
       "    }\n",
       "</style>\n",
       "<table border=\"1\" class=\"dataframe\">\n",
       "  <thead>\n",
       "    <tr style=\"text-align: right;\">\n",
       "      <th></th>\n",
       "      <th>level_0</th>\n",
       "      <th>frame</th>\n",
       "      <th>x</th>\n",
       "      <th>y</th>\n",
       "    </tr>\n",
       "  </thead>\n",
       "  <tbody>\n",
       "    <tr>\n",
       "      <th>0</th>\n",
       "      <td>0</td>\n",
       "      <td>14</td>\n",
       "      <td>506</td>\n",
       "      <td>221</td>\n",
       "    </tr>\n",
       "    <tr>\n",
       "      <th>1</th>\n",
       "      <td>1</td>\n",
       "      <td>15</td>\n",
       "      <td>523</td>\n",
       "      <td>215</td>\n",
       "    </tr>\n",
       "    <tr>\n",
       "      <th>2</th>\n",
       "      <td>2</td>\n",
       "      <td>16</td>\n",
       "      <td>537</td>\n",
       "      <td>210</td>\n",
       "    </tr>\n",
       "    <tr>\n",
       "      <th>3</th>\n",
       "      <td>3</td>\n",
       "      <td>17</td>\n",
       "      <td>552</td>\n",
       "      <td>203</td>\n",
       "    </tr>\n",
       "    <tr>\n",
       "      <th>4</th>\n",
       "      <td>4</td>\n",
       "      <td>18</td>\n",
       "      <td>566</td>\n",
       "      <td>200</td>\n",
       "    </tr>\n",
       "  </tbody>\n",
       "</table>\n",
       "</div>"
      ],
      "text/plain": [
       "   level_0 frame    x    y\n",
       "0        0    14  506  221\n",
       "1        1    15  523  215\n",
       "2        2    16  537  210\n",
       "3        3    17  552  203\n",
       "4        4    18  566  200"
      ]
     },
     "execution_count": 5,
     "metadata": {},
     "output_type": "execute_result"
    }
   ],
   "source": [
    "# y의 최대값\n",
    "max_y = ball_df['y'].max()\n",
    "\n",
    "# y축 값 뒤집기\n",
    "ball_df['y'] = max_y - ball_df['y']\n",
    "\n",
    "ball_df.head()"
   ]
  },
  {
   "cell_type": "markdown",
   "metadata": {},
   "source": [
    "**ball_df**와 **events_df**를 합칩니다."
   ]
  },
  {
   "cell_type": "code",
   "execution_count": 7,
   "metadata": {},
   "outputs": [
    {
     "data": {
      "text/html": [
       "<div>\n",
       "<style scoped>\n",
       "    .dataframe tbody tr th:only-of-type {\n",
       "        vertical-align: middle;\n",
       "    }\n",
       "\n",
       "    .dataframe tbody tr th {\n",
       "        vertical-align: top;\n",
       "    }\n",
       "\n",
       "    .dataframe thead th {\n",
       "        text-align: right;\n",
       "    }\n",
       "</style>\n",
       "<table border=\"1\" class=\"dataframe\">\n",
       "  <thead>\n",
       "    <tr style=\"text-align: right;\">\n",
       "      <th></th>\n",
       "      <th>frame</th>\n",
       "      <th>x</th>\n",
       "      <th>y</th>\n",
       "      <th>event</th>\n",
       "    </tr>\n",
       "  </thead>\n",
       "  <tbody>\n",
       "    <tr>\n",
       "      <th>0</th>\n",
       "      <td>18</td>\n",
       "      <td>566</td>\n",
       "      <td>200</td>\n",
       "      <td>bounce</td>\n",
       "    </tr>\n",
       "    <tr>\n",
       "      <th>1</th>\n",
       "      <td>33</td>\n",
       "      <td>897</td>\n",
       "      <td>228</td>\n",
       "      <td>net</td>\n",
       "    </tr>\n",
       "    <tr>\n",
       "      <th>2</th>\n",
       "      <td>44</td>\n",
       "      <td>500</td>\n",
       "      <td>138</td>\n",
       "      <td>bounce</td>\n",
       "    </tr>\n",
       "    <tr>\n",
       "      <th>3</th>\n",
       "      <td>98</td>\n",
       "      <td>886</td>\n",
       "      <td>442</td>\n",
       "      <td>net</td>\n",
       "    </tr>\n",
       "    <tr>\n",
       "      <th>4</th>\n",
       "      <td>138</td>\n",
       "      <td>1322</td>\n",
       "      <td>192</td>\n",
       "      <td>bounce</td>\n",
       "    </tr>\n",
       "  </tbody>\n",
       "</table>\n",
       "</div>"
      ],
      "text/plain": [
       "  frame     x    y   event\n",
       "0    18   566  200  bounce\n",
       "1    33   897  228     net\n",
       "2    44   500  138  bounce\n",
       "3    98   886  442     net\n",
       "4   138  1322  192  bounce"
      ]
     },
     "execution_count": 7,
     "metadata": {},
     "output_type": "execute_result"
    }
   ],
   "source": [
    "# ball_df와 events_df를 frame의 교집합 반환한 merged_df 생성\n",
    "\n",
    "# events_df에 존재하는 프레임 값을 기준으로 ball_df를 필터링\n",
    "filtered_df = ball_df[ball_df['frame'].isin(events_df['frame'])]\n",
    "\n",
    "# 'frame' 열을 기준으로 events_df에서 filter_df로 'event' 열 병합\n",
    "merged_df = pd.merge(filtered_df, events_df[['frame', 'event']], on='frame', how='left')\n",
    "\n",
    "# 열을 재정렬하여 'y'와 'player' 사이에 'event'를 배치\n",
    "merged_df = merged_df[['frame', 'x', 'y', 'event']]\n",
    "\n",
    "# bounce,net 외 empty_event라는 이벤트도 있는데 이는 분석에 필요가 없으니 제외\n",
    "# event에는 (bounce, net, empty_event) 3가지 유형이 있는데 empty_event의 필요성 불명\n",
    "merged_df = merged_df[merged_df['event'] != 'empty_event']\n",
    "merged_df.head()"
   ]
  },
  {
   "cell_type": "markdown",
   "metadata": {},
   "source": [
    "시각화하여 분포가 어떻게 이뤄져있는지 파악하고 y축 반전이 잘 되었나 확인합니다.\\\n",
    "\\\n",
    "테이블과 네트의 좌표는 동영상에서 미리 추출한 좌표를 사용합니다."
   ]
  },
  {
   "cell_type": "code",
   "execution_count": 9,
   "metadata": {},
   "outputs": [
    {
     "data": {
      "text/plain": [
       "{'left_bottom': (305, 103),\n",
       " 'left_top': (510, 217),\n",
       " 'right_top': (1297, 202),\n",
       " 'right_bottom': (1435, 76)}"
      ]
     },
     "execution_count": 9,
     "metadata": {},
     "output_type": "execute_result"
    }
   ],
   "source": [
    "# 테이블 꼭지점 좌표\n",
    "table_corners = {\n",
    "    'left_bottom': (305, 641),\n",
    "    'left_top': (510, 527),\n",
    "    'right_top': (1297, 542),\n",
    "    'right_bottom': (1435, 668)\n",
    "}\n",
    "\n",
    "# 테이블 꼭지점 좌표도 y좌표를 반전\n",
    "table_corners = {corner: (x, max_y - y) for corner, (x, y) in table_corners.items()}\n",
    "\n",
    "table_corners"
   ]
  },
  {
   "cell_type": "code",
   "execution_count": 10,
   "metadata": {},
   "outputs": [
    {
     "data": {
      "text/plain": [
       "[(901, 210), (862, 89)]"
      ]
     },
     "execution_count": 10,
     "metadata": {},
     "output_type": "execute_result"
    }
   ],
   "source": [
    "# 네트 좌표\n",
    "net_coords = [(901, 534), (862, 655)]\n",
    "\n",
    "# Flip the y-coordinates of the additional points\n",
    "net_coords = [(x, max_y - y) for x, y in net_coords]\n",
    "\n",
    "net_coords"
   ]
  },
  {
   "cell_type": "markdown",
   "metadata": {},
   "source": [
    "y축을 변환해준 데이터를 mysql로 보내고 EDA를 이어서 진행합니다."
   ]
  },
  {
   "cell_type": "code",
   "execution_count": 12,
   "metadata": {},
   "outputs": [
    {
     "data": {
      "text/plain": [
       "604"
      ]
     },
     "execution_count": 12,
     "metadata": {},
     "output_type": "execute_result"
    }
   ],
   "source": [
    "# mysql로 보내기\n",
    "\n",
    "from sqlalchemy import create_engine\n",
    "\n",
    "db_connection_path = ''\n",
    "db_connection = create_engine(db_connection_path)\n",
    "\n",
    "conn = db_connection.connect()\n",
    "\n",
    "ball_df.to_sql('ball_markup_1', con = db_connection, if_exists= 'replace')\n",
    "events_df.to_sql('events_markup_1', con = db_connection, if_exists= 'replace')\n",
    "\n"
   ]
  },
  {
   "cell_type": "code",
   "execution_count": null,
   "metadata": {},
   "outputs": [],
   "source": []
  }
 ],
 "metadata": {
  "kernelspec": {
   "display_name": "Python 3",
   "language": "python",
   "name": "python3"
  },
  "language_info": {
   "codemirror_mode": {
    "name": "ipython",
    "version": 3
   },
   "file_extension": ".py",
   "mimetype": "text/x-python",
   "name": "python",
   "nbconvert_exporter": "python",
   "pygments_lexer": "ipython3",
   "version": "3.9.16"
  },
  "orig_nbformat": 4
 },
 "nbformat": 4,
 "nbformat_minor": 2
}
